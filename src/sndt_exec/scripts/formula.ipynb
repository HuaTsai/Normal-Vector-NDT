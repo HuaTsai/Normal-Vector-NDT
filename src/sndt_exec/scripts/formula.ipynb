{
 "cells": [
  {
   "cell_type": "code",
   "execution_count": 1,
   "metadata": {},
   "outputs": [],
   "source": [
    "import sympy as sym\n",
    "\n",
    "x, y, th = sym.symbols('x, y, θ')\n",
    "R = sym.Matrix([[sym.cos(th), -sym.sin(th)], [sym.sin(th), sym.cos(th)]])\n",
    "t = sym.Matrix([[x], [y]])\n",
    "\n",
    "px, py = sym.symbols('p_x, p_y')\n",
    "qx, qy = sym.symbols('q_x, q_y')\n",
    "p = sym.Matrix([[px], [py]])\n",
    "q = sym.Matrix([[qx], [qy]])\n",
    "\n",
    "pnx, pny = sym.symbols('p_nx, p_ny')\n",
    "qnx, qny = sym.symbols('q_nx, q_ny')\n",
    "pn = sym.Matrix([[pnx], [pny]])\n",
    "qn = sym.Matrix([[qnx], [qny]])\n",
    "\n",
    "pa, pb, pc = sym.symbols('p_a, p_b, p_c')\n",
    "qa, qb, qc = sym.symbols('q_a, q_b, q_c')\n",
    "cp = sym.Matrix([[pa, pb], [pb, pc]])\n",
    "cq = sym.Matrix([[qa, qb], [qb, qc]])\n",
    "\n",
    "pna, pnb, pnc = sym.symbols('p_na, p_nb, p_nc')\n",
    "qna, qnb, qnc = sym.symbols('q_na, q_nb, q_nc')\n",
    "cpn = sym.Matrix([[pna, pnb], [pnb, pnc]])\n",
    "cqn = sym.Matrix([[qna, qnb], [qnb, qnc]])"
   ]
  },
  {
   "cell_type": "markdown",
   "metadata": {},
   "source": [
    "## ICP\n",
    "\n",
    "$e_{\\text{icp}}=\\|p-q\\|_2$"
   ]
  },
  {
   "cell_type": "code",
   "execution_count": 58,
   "metadata": {},
   "outputs": [
    {
     "data": {
      "text/latex": [
       "$\\displaystyle \\left(p_{x} \\sin{\\left(θ \\right)} + p_{y} \\cos{\\left(θ \\right)} - q_{y} + y\\right)^{2} + \\left(p_{x} \\cos{\\left(θ \\right)} - p_{y} \\sin{\\left(θ \\right)} - q_{x} + x\\right)^{2}$"
      ],
      "text/plain": [
       "(p_x*sin(θ) + p_y*cos(θ) - q_y + y)**2 + (p_x*cos(θ) - p_y*sin(θ) - q_x + x)**2"
      ]
     },
     "execution_count": 58,
     "metadata": {},
     "output_type": "execute_result"
    }
   ],
   "source": [
    "e1 = R * p + t - q\n",
    "cost1 = e1[0] * e1[0] + e1[1] * e1[1]\n",
    "cost1"
   ]
  },
  {
   "cell_type": "code",
   "execution_count": 59,
   "metadata": {},
   "outputs": [
    {
     "data": {
      "text/latex": [
       "$\\displaystyle p_{x}^{2} \\sin^{2}{\\left(θ \\right)} + p_{x}^{2} \\cos^{2}{\\left(θ \\right)} - 2 p_{x} q_{x} \\cos{\\left(θ \\right)} - 2 p_{x} q_{y} \\sin{\\left(θ \\right)} + 2 p_{x} x \\cos{\\left(θ \\right)} + 2 p_{x} y \\sin{\\left(θ \\right)} + p_{y}^{2} \\sin^{2}{\\left(θ \\right)} + p_{y}^{2} \\cos^{2}{\\left(θ \\right)} + 2 p_{y} q_{x} \\sin{\\left(θ \\right)} - 2 p_{y} q_{y} \\cos{\\left(θ \\right)} - 2 p_{y} x \\sin{\\left(θ \\right)} + 2 p_{y} y \\cos{\\left(θ \\right)} + q_{x}^{2} - 2 q_{x} x + q_{y}^{2} - 2 q_{y} y + x^{2} + y^{2}$"
      ],
      "text/plain": [
       "p_x**2*sin(θ)**2 + p_x**2*cos(θ)**2 - 2*p_x*q_x*cos(θ) - 2*p_x*q_y*sin(θ) + 2*p_x*x*cos(θ) + 2*p_x*y*sin(θ) + p_y**2*sin(θ)**2 + p_y**2*cos(θ)**2 + 2*p_y*q_x*sin(θ) - 2*p_y*q_y*cos(θ) - 2*p_y*x*sin(θ) + 2*p_y*y*cos(θ) + q_x**2 - 2*q_x*x + q_y**2 - 2*q_y*y + x**2 + y**2"
      ]
     },
     "execution_count": 59,
     "metadata": {},
     "output_type": "execute_result"
    }
   ],
   "source": [
    "cost1 = sym.expand(cost1)\n",
    "cost1"
   ]
  },
  {
   "cell_type": "code",
   "execution_count": 78,
   "metadata": {},
   "outputs": [
    {
     "data": {
      "text/plain": [
       "(1, 1)"
      ]
     },
     "execution_count": 78,
     "metadata": {},
     "output_type": "execute_result"
    }
   ],
   "source": [
    "cost1.collect(x*x).coeff(x, 2), cost1.collect(y*y).coeff(y, 2)"
   ]
  },
  {
   "cell_type": "code",
   "execution_count": 79,
   "metadata": {},
   "outputs": [
    {
     "data": {
      "text/plain": [
       "(2*p_x*cos(θ) - 2*p_y*sin(θ) - 2*q_x, 2*p_x*sin(θ) + 2*p_y*cos(θ) - 2*q_y, 0)"
      ]
     },
     "execution_count": 79,
     "metadata": {},
     "output_type": "execute_result"
    }
   ],
   "source": [
    "cost1.collect(x).coeff(x), cost1.collect(y).coeff(y), cost1.collect(x*y).coeff(x*y)"
   ]
  },
  {
   "cell_type": "markdown",
   "metadata": {},
   "source": [
    "## Point-to-Plane ICP\n",
    "\n",
    "$e_{\\text{pt2pl-icp}}=|(p-q)^Tn_q|$"
   ]
  },
  {
   "cell_type": "markdown",
   "metadata": {},
   "source": [
    "## Symmetric ICP\n",
    "\n",
    "$e_{\\text{sicp}}=|(p-q)^T(n_p+n_q)|$"
   ]
  },
  {
   "cell_type": "markdown",
   "metadata": {},
   "source": [
    "## Point-to-Distribution NDT\n",
    "\n",
    "$e_{p2d-ndt}=\\sqrt{(p-\\mu_q)^T\\Sigma_q^{-1}(p-\\mu_q)}$"
   ]
  },
  {
   "cell_type": "markdown",
   "metadata": {},
   "source": [
    "## Distribution-to-Distribution NDT\n",
    "\n",
    "$e_{\\text{d2d-ndt}}=\\sqrt{(\\mu_p-\\mu_q)^T(\\Sigma_p+\\Sigma_q)^{-1}(\\mu_p-\\mu_q)}$"
   ]
  },
  {
   "cell_type": "markdown",
   "metadata": {},
   "source": [
    "## Symmetric NDT\n",
    "\n",
    "$\\mu=(\\mu_p-\\mu_q)^T(\\mu_{np}+\\mu_{nq})$\n",
    "\n",
    "$\\sigma=(\\mu_p-\\mu_q)^T(\\Sigma_{np} +\\Sigma_{nq})(\\mu_p-\\mu_q)+(\\mu_{np}+\\mu_{nq})^T(\\Sigma_p +\\Sigma_q)(\\mu_{np}+\\mu_{nq})+\\mathrm{tr}((\\Sigma_p +\\Sigma_q)(\\Sigma_{np} +\\Sigma_{nq}))$\n",
    "\n",
    "$e_{sndt}=|\\mu/\\sigma|$"
   ]
  },
  {
   "cell_type": "code",
   "execution_count": 2,
   "metadata": {},
   "outputs": [],
   "source": [
    "m1 = (R * p + t) - q\n",
    "m2 = (R * pn) + qn\n",
    "c1 = R * cp * R.transpose() + cq\n",
    "c2 = R * cpn * R.transpose() + cqn\n",
    "\n",
    "num = (m1.transpose() * m2)[0]\n",
    "den = sym.sqrt((m2.transpose() * c1 * m2)[0] + (m1.transpose() * c2 * m1)[0] + (c1 * c2).trace())\n",
    "e6 = num / den\n",
    "cost6 = 0.5 * e6 * e6"
   ]
  },
  {
   "cell_type": "code",
   "execution_count": 109,
   "metadata": {},
   "outputs": [
    {
     "data": {
      "text/latex": [
       "$\\displaystyle \\left(\\left(p_{nx} \\sin{\\left(θ \\right)} + p_{ny} \\cos{\\left(θ \\right)} + q_{ny}\\right) \\left(p_{x} \\sin{\\left(θ \\right)} + p_{y} \\cos{\\left(θ \\right)} - q_{y} + y\\right) + \\left(p_{nx} \\cos{\\left(θ \\right)} - p_{ny} \\sin{\\left(θ \\right)} + q_{nx}\\right) \\left(p_{x} \\cos{\\left(θ \\right)} - p_{y} \\sin{\\left(θ \\right)} - q_{x} + x\\right)\\right)^{2}$"
      ],
      "text/plain": [
       "((p_nx*sin(θ) + p_ny*cos(θ) + q_ny)*(p_x*sin(θ) + p_y*cos(θ) - q_y + y) + (p_nx*cos(θ) - p_ny*sin(θ) + q_nx)*(p_x*cos(θ) - p_y*sin(θ) - q_x + x))**2"
      ]
     },
     "execution_count": 109,
     "metadata": {},
     "output_type": "execute_result"
    }
   ],
   "source": [
    "num * num"
   ]
  },
  {
   "cell_type": "code",
   "execution_count": 112,
   "metadata": {},
   "outputs": [
    {
     "data": {
      "text/latex": [
       "$\\displaystyle 2 p_{nx}^{2} p_{x} \\sin^{2}{\\left(θ \\right)} \\cos{\\left(θ \\right)} + 2 p_{nx}^{2} p_{x} \\cos^{3}{\\left(θ \\right)} - 2 p_{nx}^{2} q_{x} \\cos^{2}{\\left(θ \\right)} - 2 p_{nx}^{2} q_{y} \\sin{\\left(θ \\right)} \\cos{\\left(θ \\right)} + 2 p_{nx}^{2} y \\sin{\\left(θ \\right)} \\cos{\\left(θ \\right)} - 2 p_{nx} p_{ny} p_{x} \\sin^{3}{\\left(θ \\right)} - 2 p_{nx} p_{ny} p_{x} \\sin{\\left(θ \\right)} \\cos^{2}{\\left(θ \\right)} + 2 p_{nx} p_{ny} p_{y} \\sin^{2}{\\left(θ \\right)} \\cos{\\left(θ \\right)} + 2 p_{nx} p_{ny} p_{y} \\cos^{3}{\\left(θ \\right)} + 4 p_{nx} p_{ny} q_{x} \\sin{\\left(θ \\right)} \\cos{\\left(θ \\right)} + 2 p_{nx} p_{ny} q_{y} \\sin^{2}{\\left(θ \\right)} - 2 p_{nx} p_{ny} q_{y} \\cos^{2}{\\left(θ \\right)} - 2 p_{nx} p_{ny} y \\sin^{2}{\\left(θ \\right)} + 2 p_{nx} p_{ny} y \\cos^{2}{\\left(θ \\right)} + 2 p_{nx} p_{x} q_{nx} \\sin^{2}{\\left(θ \\right)} + 4 p_{nx} p_{x} q_{nx} \\cos^{2}{\\left(θ \\right)} + 2 p_{nx} p_{x} q_{ny} \\sin{\\left(θ \\right)} \\cos{\\left(θ \\right)} - 2 p_{nx} p_{y} q_{nx} \\sin{\\left(θ \\right)} \\cos{\\left(θ \\right)} + 2 p_{nx} p_{y} q_{ny} \\cos^{2}{\\left(θ \\right)} - 4 p_{nx} q_{nx} q_{x} \\cos{\\left(θ \\right)} - 2 p_{nx} q_{nx} q_{y} \\sin{\\left(θ \\right)} + 2 p_{nx} q_{nx} y \\sin{\\left(θ \\right)} - 2 p_{nx} q_{ny} q_{y} \\cos{\\left(θ \\right)} + 2 p_{nx} q_{ny} y \\cos{\\left(θ \\right)} - 2 p_{ny}^{2} p_{y} \\sin^{3}{\\left(θ \\right)} - 2 p_{ny}^{2} p_{y} \\sin{\\left(θ \\right)} \\cos^{2}{\\left(θ \\right)} - 2 p_{ny}^{2} q_{x} \\sin^{2}{\\left(θ \\right)} + 2 p_{ny}^{2} q_{y} \\sin{\\left(θ \\right)} \\cos{\\left(θ \\right)} - 2 p_{ny}^{2} y \\sin{\\left(θ \\right)} \\cos{\\left(θ \\right)} - 2 p_{ny} p_{x} q_{nx} \\sin{\\left(θ \\right)} \\cos{\\left(θ \\right)} - 2 p_{ny} p_{x} q_{ny} \\sin^{2}{\\left(θ \\right)} + 4 p_{ny} p_{y} q_{nx} \\sin^{2}{\\left(θ \\right)} + 2 p_{ny} p_{y} q_{nx} \\cos^{2}{\\left(θ \\right)} - 2 p_{ny} p_{y} q_{ny} \\sin{\\left(θ \\right)} \\cos{\\left(θ \\right)} + 4 p_{ny} q_{nx} q_{x} \\sin{\\left(θ \\right)} - 2 p_{ny} q_{nx} q_{y} \\cos{\\left(θ \\right)} + 2 p_{ny} q_{nx} y \\cos{\\left(θ \\right)} + 2 p_{ny} q_{ny} q_{y} \\sin{\\left(θ \\right)} - 2 p_{ny} q_{ny} y \\sin{\\left(θ \\right)} + 2 p_{x} q_{nx}^{2} \\cos{\\left(θ \\right)} + 2 p_{x} q_{nx} q_{ny} \\sin{\\left(θ \\right)} - 2 p_{y} q_{nx}^{2} \\sin{\\left(θ \\right)} + 2 p_{y} q_{nx} q_{ny} \\cos{\\left(θ \\right)} - 2 q_{nx}^{2} q_{x} - 2 q_{nx} q_{ny} q_{y} + 2 q_{nx} q_{ny} y$"
      ],
      "text/plain": [
       "2*p_nx**2*p_x*sin(θ)**2*cos(θ) + 2*p_nx**2*p_x*cos(θ)**3 - 2*p_nx**2*q_x*cos(θ)**2 - 2*p_nx**2*q_y*sin(θ)*cos(θ) + 2*p_nx**2*y*sin(θ)*cos(θ) - 2*p_nx*p_ny*p_x*sin(θ)**3 - 2*p_nx*p_ny*p_x*sin(θ)*cos(θ)**2 + 2*p_nx*p_ny*p_y*sin(θ)**2*cos(θ) + 2*p_nx*p_ny*p_y*cos(θ)**3 + 4*p_nx*p_ny*q_x*sin(θ)*cos(θ) + 2*p_nx*p_ny*q_y*sin(θ)**2 - 2*p_nx*p_ny*q_y*cos(θ)**2 - 2*p_nx*p_ny*y*sin(θ)**2 + 2*p_nx*p_ny*y*cos(θ)**2 + 2*p_nx*p_x*q_nx*sin(θ)**2 + 4*p_nx*p_x*q_nx*cos(θ)**2 + 2*p_nx*p_x*q_ny*sin(θ)*cos(θ) - 2*p_nx*p_y*q_nx*sin(θ)*cos(θ) + 2*p_nx*p_y*q_ny*cos(θ)**2 - 4*p_nx*q_nx*q_x*cos(θ) - 2*p_nx*q_nx*q_y*sin(θ) + 2*p_nx*q_nx*y*sin(θ) - 2*p_nx*q_ny*q_y*cos(θ) + 2*p_nx*q_ny*y*cos(θ) - 2*p_ny**2*p_y*sin(θ)**3 - 2*p_ny**2*p_y*sin(θ)*cos(θ)**2 - 2*p_ny**2*q_x*sin(θ)**2 + 2*p_ny**2*q_y*sin(θ)*cos(θ) - 2*p_ny**2*y*sin(θ)*cos(θ) - 2*p_ny*p_x*q_nx*sin(θ)*cos(θ) - 2*p_ny*p_x*q_ny*sin(θ)**2 + 4*p_ny*p_y*q_nx*sin(θ)**2 + 2*p_ny*p_y*q_nx*cos(θ)**2 - 2*p_ny*p_y*q_ny*sin(θ)*cos(θ) + 4*p_ny*q_nx*q_x*sin(θ) - 2*p_ny*q_nx*q_y*cos(θ) + 2*p_ny*q_nx*y*cos(θ) + 2*p_ny*q_ny*q_y*sin(θ) - 2*p_ny*q_ny*y*sin(θ) + 2*p_x*q_nx**2*cos(θ) + 2*p_x*q_nx*q_ny*sin(θ) - 2*p_y*q_nx**2*sin(θ) + 2*p_y*q_nx*q_ny*cos(θ) - 2*q_nx**2*q_x - 2*q_nx*q_ny*q_y + 2*q_nx*q_ny*y"
      ]
     },
     "execution_count": 112,
     "metadata": {},
     "output_type": "execute_result"
    }
   ],
   "source": [
    "sym.expand(num * num).coeff(x)"
   ]
  },
  {
   "cell_type": "code",
   "execution_count": 113,
   "metadata": {},
   "outputs": [
    {
     "data": {
      "text/latex": [
       "$\\displaystyle 2 p_{nx}^{2} p_{x} \\sin^{3}{\\left(θ \\right)} + 2 p_{nx}^{2} p_{x} \\sin{\\left(θ \\right)} \\cos^{2}{\\left(θ \\right)} - 2 p_{nx}^{2} q_{x} \\sin{\\left(θ \\right)} \\cos{\\left(θ \\right)} - 2 p_{nx}^{2} q_{y} \\sin^{2}{\\left(θ \\right)} + 2 p_{nx}^{2} x \\sin{\\left(θ \\right)} \\cos{\\left(θ \\right)} + 2 p_{nx} p_{ny} p_{x} \\sin^{2}{\\left(θ \\right)} \\cos{\\left(θ \\right)} + 2 p_{nx} p_{ny} p_{x} \\cos^{3}{\\left(θ \\right)} + 2 p_{nx} p_{ny} p_{y} \\sin^{3}{\\left(θ \\right)} + 2 p_{nx} p_{ny} p_{y} \\sin{\\left(θ \\right)} \\cos^{2}{\\left(θ \\right)} + 2 p_{nx} p_{ny} q_{x} \\sin^{2}{\\left(θ \\right)} - 2 p_{nx} p_{ny} q_{x} \\cos^{2}{\\left(θ \\right)} - 4 p_{nx} p_{ny} q_{y} \\sin{\\left(θ \\right)} \\cos{\\left(θ \\right)} - 2 p_{nx} p_{ny} x \\sin^{2}{\\left(θ \\right)} + 2 p_{nx} p_{ny} x \\cos^{2}{\\left(θ \\right)} + 2 p_{nx} p_{x} q_{nx} \\sin{\\left(θ \\right)} \\cos{\\left(θ \\right)} + 4 p_{nx} p_{x} q_{ny} \\sin^{2}{\\left(θ \\right)} + 2 p_{nx} p_{x} q_{ny} \\cos^{2}{\\left(θ \\right)} - 2 p_{nx} p_{y} q_{nx} \\sin^{2}{\\left(θ \\right)} + 2 p_{nx} p_{y} q_{ny} \\sin{\\left(θ \\right)} \\cos{\\left(θ \\right)} - 2 p_{nx} q_{nx} q_{x} \\sin{\\left(θ \\right)} + 2 p_{nx} q_{nx} x \\sin{\\left(θ \\right)} - 2 p_{nx} q_{ny} q_{x} \\cos{\\left(θ \\right)} - 4 p_{nx} q_{ny} q_{y} \\sin{\\left(θ \\right)} + 2 p_{nx} q_{ny} x \\cos{\\left(θ \\right)} + 2 p_{ny}^{2} p_{y} \\sin^{2}{\\left(θ \\right)} \\cos{\\left(θ \\right)} + 2 p_{ny}^{2} p_{y} \\cos^{3}{\\left(θ \\right)} + 2 p_{ny}^{2} q_{x} \\sin{\\left(θ \\right)} \\cos{\\left(θ \\right)} - 2 p_{ny}^{2} q_{y} \\cos^{2}{\\left(θ \\right)} - 2 p_{ny}^{2} x \\sin{\\left(θ \\right)} \\cos{\\left(θ \\right)} + 2 p_{ny} p_{x} q_{nx} \\cos^{2}{\\left(θ \\right)} + 2 p_{ny} p_{x} q_{ny} \\sin{\\left(θ \\right)} \\cos{\\left(θ \\right)} - 2 p_{ny} p_{y} q_{nx} \\sin{\\left(θ \\right)} \\cos{\\left(θ \\right)} + 2 p_{ny} p_{y} q_{ny} \\sin^{2}{\\left(θ \\right)} + 4 p_{ny} p_{y} q_{ny} \\cos^{2}{\\left(θ \\right)} - 2 p_{ny} q_{nx} q_{x} \\cos{\\left(θ \\right)} + 2 p_{ny} q_{nx} x \\cos{\\left(θ \\right)} + 2 p_{ny} q_{ny} q_{x} \\sin{\\left(θ \\right)} - 4 p_{ny} q_{ny} q_{y} \\cos{\\left(θ \\right)} - 2 p_{ny} q_{ny} x \\sin{\\left(θ \\right)} + 2 p_{x} q_{nx} q_{ny} \\cos{\\left(θ \\right)} + 2 p_{x} q_{ny}^{2} \\sin{\\left(θ \\right)} - 2 p_{y} q_{nx} q_{ny} \\sin{\\left(θ \\right)} + 2 p_{y} q_{ny}^{2} \\cos{\\left(θ \\right)} - 2 q_{nx} q_{ny} q_{x} + 2 q_{nx} q_{ny} x - 2 q_{ny}^{2} q_{y}$"
      ],
      "text/plain": [
       "2*p_nx**2*p_x*sin(θ)**3 + 2*p_nx**2*p_x*sin(θ)*cos(θ)**2 - 2*p_nx**2*q_x*sin(θ)*cos(θ) - 2*p_nx**2*q_y*sin(θ)**2 + 2*p_nx**2*x*sin(θ)*cos(θ) + 2*p_nx*p_ny*p_x*sin(θ)**2*cos(θ) + 2*p_nx*p_ny*p_x*cos(θ)**3 + 2*p_nx*p_ny*p_y*sin(θ)**3 + 2*p_nx*p_ny*p_y*sin(θ)*cos(θ)**2 + 2*p_nx*p_ny*q_x*sin(θ)**2 - 2*p_nx*p_ny*q_x*cos(θ)**2 - 4*p_nx*p_ny*q_y*sin(θ)*cos(θ) - 2*p_nx*p_ny*x*sin(θ)**2 + 2*p_nx*p_ny*x*cos(θ)**2 + 2*p_nx*p_x*q_nx*sin(θ)*cos(θ) + 4*p_nx*p_x*q_ny*sin(θ)**2 + 2*p_nx*p_x*q_ny*cos(θ)**2 - 2*p_nx*p_y*q_nx*sin(θ)**2 + 2*p_nx*p_y*q_ny*sin(θ)*cos(θ) - 2*p_nx*q_nx*q_x*sin(θ) + 2*p_nx*q_nx*x*sin(θ) - 2*p_nx*q_ny*q_x*cos(θ) - 4*p_nx*q_ny*q_y*sin(θ) + 2*p_nx*q_ny*x*cos(θ) + 2*p_ny**2*p_y*sin(θ)**2*cos(θ) + 2*p_ny**2*p_y*cos(θ)**3 + 2*p_ny**2*q_x*sin(θ)*cos(θ) - 2*p_ny**2*q_y*cos(θ)**2 - 2*p_ny**2*x*sin(θ)*cos(θ) + 2*p_ny*p_x*q_nx*cos(θ)**2 + 2*p_ny*p_x*q_ny*sin(θ)*cos(θ) - 2*p_ny*p_y*q_nx*sin(θ)*cos(θ) + 2*p_ny*p_y*q_ny*sin(θ)**2 + 4*p_ny*p_y*q_ny*cos(θ)**2 - 2*p_ny*q_nx*q_x*cos(θ) + 2*p_ny*q_nx*x*cos(θ) + 2*p_ny*q_ny*q_x*sin(θ) - 4*p_ny*q_ny*q_y*cos(θ) - 2*p_ny*q_ny*x*sin(θ) + 2*p_x*q_nx*q_ny*cos(θ) + 2*p_x*q_ny**2*sin(θ) - 2*p_y*q_nx*q_ny*sin(θ) + 2*p_y*q_ny**2*cos(θ) - 2*q_nx*q_ny*q_x + 2*q_nx*q_ny*x - 2*q_ny**2*q_y"
      ]
     },
     "execution_count": 113,
     "metadata": {},
     "output_type": "execute_result"
    }
   ],
   "source": [
    "sym.expand(num * num).coeff(y)"
   ]
  },
  {
   "cell_type": "code",
   "execution_count": 114,
   "metadata": {},
   "outputs": [
    {
     "data": {
      "text/latex": [
       "$\\displaystyle 2 p_{nx}^{2} \\sin{\\left(θ \\right)} \\cos{\\left(θ \\right)} - 2 p_{nx} p_{ny} \\sin^{2}{\\left(θ \\right)} + 2 p_{nx} p_{ny} \\cos^{2}{\\left(θ \\right)} + 2 p_{nx} q_{nx} \\sin{\\left(θ \\right)} + 2 p_{nx} q_{ny} \\cos{\\left(θ \\right)} - 2 p_{ny}^{2} \\sin{\\left(θ \\right)} \\cos{\\left(θ \\right)} + 2 p_{ny} q_{nx} \\cos{\\left(θ \\right)} - 2 p_{ny} q_{ny} \\sin{\\left(θ \\right)} + 2 q_{nx} q_{ny}$"
      ],
      "text/plain": [
       "2*p_nx**2*sin(θ)*cos(θ) - 2*p_nx*p_ny*sin(θ)**2 + 2*p_nx*p_ny*cos(θ)**2 + 2*p_nx*q_nx*sin(θ) + 2*p_nx*q_ny*cos(θ) - 2*p_ny**2*sin(θ)*cos(θ) + 2*p_ny*q_nx*cos(θ) - 2*p_ny*q_ny*sin(θ) + 2*q_nx*q_ny"
      ]
     },
     "execution_count": 114,
     "metadata": {},
     "output_type": "execute_result"
    }
   ],
   "source": [
    "sym.expand(num * num).coeff(x*y)"
   ]
  },
  {
   "cell_type": "code",
   "execution_count": 110,
   "metadata": {},
   "outputs": [
    {
     "data": {
      "text/latex": [
       "$\\displaystyle \\left(\\left(q_{a} + \\left(p_{a} \\cos{\\left(θ \\right)} - p_{b} \\sin{\\left(θ \\right)}\\right) \\cos{\\left(θ \\right)} - \\left(p_{b} \\cos{\\left(θ \\right)} - p_{c} \\sin{\\left(θ \\right)}\\right) \\sin{\\left(θ \\right)}\\right) \\left(p_{nx} \\cos{\\left(θ \\right)} - p_{ny} \\sin{\\left(θ \\right)} + q_{nx}\\right) + \\left(q_{b} + \\left(p_{a} \\sin{\\left(θ \\right)} + p_{b} \\cos{\\left(θ \\right)}\\right) \\cos{\\left(θ \\right)} - \\left(p_{b} \\sin{\\left(θ \\right)} + p_{c} \\cos{\\left(θ \\right)}\\right) \\sin{\\left(θ \\right)}\\right) \\left(p_{nx} \\sin{\\left(θ \\right)} + p_{ny} \\cos{\\left(θ \\right)} + q_{ny}\\right)\\right) \\left(p_{nx} \\cos{\\left(θ \\right)} - p_{ny} \\sin{\\left(θ \\right)} + q_{nx}\\right) + \\left(\\left(q_{b} + \\left(p_{a} \\cos{\\left(θ \\right)} - p_{b} \\sin{\\left(θ \\right)}\\right) \\sin{\\left(θ \\right)} + \\left(p_{b} \\cos{\\left(θ \\right)} - p_{c} \\sin{\\left(θ \\right)}\\right) \\cos{\\left(θ \\right)}\\right) \\left(p_{nx} \\cos{\\left(θ \\right)} - p_{ny} \\sin{\\left(θ \\right)} + q_{nx}\\right) + \\left(q_{c} + \\left(p_{a} \\sin{\\left(θ \\right)} + p_{b} \\cos{\\left(θ \\right)}\\right) \\sin{\\left(θ \\right)} + \\left(p_{b} \\sin{\\left(θ \\right)} + p_{c} \\cos{\\left(θ \\right)}\\right) \\cos{\\left(θ \\right)}\\right) \\left(p_{nx} \\sin{\\left(θ \\right)} + p_{ny} \\cos{\\left(θ \\right)} + q_{ny}\\right)\\right) \\left(p_{nx} \\sin{\\left(θ \\right)} + p_{ny} \\cos{\\left(θ \\right)} + q_{ny}\\right) + \\left(\\left(q_{na} + \\left(p_{na} \\cos{\\left(θ \\right)} - p_{nb} \\sin{\\left(θ \\right)}\\right) \\cos{\\left(θ \\right)} - \\left(p_{nb} \\cos{\\left(θ \\right)} - p_{nc} \\sin{\\left(θ \\right)}\\right) \\sin{\\left(θ \\right)}\\right) \\left(p_{x} \\cos{\\left(θ \\right)} - p_{y} \\sin{\\left(θ \\right)} - q_{x} + x\\right) + \\left(q_{nb} + \\left(p_{na} \\sin{\\left(θ \\right)} + p_{nb} \\cos{\\left(θ \\right)}\\right) \\cos{\\left(θ \\right)} - \\left(p_{nb} \\sin{\\left(θ \\right)} + p_{nc} \\cos{\\left(θ \\right)}\\right) \\sin{\\left(θ \\right)}\\right) \\left(p_{x} \\sin{\\left(θ \\right)} + p_{y} \\cos{\\left(θ \\right)} - q_{y} + y\\right)\\right) \\left(p_{x} \\cos{\\left(θ \\right)} - p_{y} \\sin{\\left(θ \\right)} - q_{x} + x\\right) + \\left(\\left(q_{nb} + \\left(p_{na} \\cos{\\left(θ \\right)} - p_{nb} \\sin{\\left(θ \\right)}\\right) \\sin{\\left(θ \\right)} + \\left(p_{nb} \\cos{\\left(θ \\right)} - p_{nc} \\sin{\\left(θ \\right)}\\right) \\cos{\\left(θ \\right)}\\right) \\left(p_{x} \\cos{\\left(θ \\right)} - p_{y} \\sin{\\left(θ \\right)} - q_{x} + x\\right) + \\left(q_{nc} + \\left(p_{na} \\sin{\\left(θ \\right)} + p_{nb} \\cos{\\left(θ \\right)}\\right) \\sin{\\left(θ \\right)} + \\left(p_{nb} \\sin{\\left(θ \\right)} + p_{nc} \\cos{\\left(θ \\right)}\\right) \\cos{\\left(θ \\right)}\\right) \\left(p_{x} \\sin{\\left(θ \\right)} + p_{y} \\cos{\\left(θ \\right)} - q_{y} + y\\right)\\right) \\left(p_{x} \\sin{\\left(θ \\right)} + p_{y} \\cos{\\left(θ \\right)} - q_{y} + y\\right) + \\left(q_{a} + \\left(p_{a} \\cos{\\left(θ \\right)} - p_{b} \\sin{\\left(θ \\right)}\\right) \\cos{\\left(θ \\right)} - \\left(p_{b} \\cos{\\left(θ \\right)} - p_{c} \\sin{\\left(θ \\right)}\\right) \\sin{\\left(θ \\right)}\\right) \\left(q_{na} + \\left(p_{na} \\cos{\\left(θ \\right)} - p_{nb} \\sin{\\left(θ \\right)}\\right) \\cos{\\left(θ \\right)} - \\left(p_{nb} \\cos{\\left(θ \\right)} - p_{nc} \\sin{\\left(θ \\right)}\\right) \\sin{\\left(θ \\right)}\\right) + \\left(q_{b} + \\left(p_{a} \\sin{\\left(θ \\right)} + p_{b} \\cos{\\left(θ \\right)}\\right) \\cos{\\left(θ \\right)} - \\left(p_{b} \\sin{\\left(θ \\right)} + p_{c} \\cos{\\left(θ \\right)}\\right) \\sin{\\left(θ \\right)}\\right) \\left(q_{nb} + \\left(p_{na} \\cos{\\left(θ \\right)} - p_{nb} \\sin{\\left(θ \\right)}\\right) \\sin{\\left(θ \\right)} + \\left(p_{nb} \\cos{\\left(θ \\right)} - p_{nc} \\sin{\\left(θ \\right)}\\right) \\cos{\\left(θ \\right)}\\right) + \\left(q_{b} + \\left(p_{a} \\cos{\\left(θ \\right)} - p_{b} \\sin{\\left(θ \\right)}\\right) \\sin{\\left(θ \\right)} + \\left(p_{b} \\cos{\\left(θ \\right)} - p_{c} \\sin{\\left(θ \\right)}\\right) \\cos{\\left(θ \\right)}\\right) \\left(q_{nb} + \\left(p_{na} \\sin{\\left(θ \\right)} + p_{nb} \\cos{\\left(θ \\right)}\\right) \\cos{\\left(θ \\right)} - \\left(p_{nb} \\sin{\\left(θ \\right)} + p_{nc} \\cos{\\left(θ \\right)}\\right) \\sin{\\left(θ \\right)}\\right) + \\left(q_{c} + \\left(p_{a} \\sin{\\left(θ \\right)} + p_{b} \\cos{\\left(θ \\right)}\\right) \\sin{\\left(θ \\right)} + \\left(p_{b} \\sin{\\left(θ \\right)} + p_{c} \\cos{\\left(θ \\right)}\\right) \\cos{\\left(θ \\right)}\\right) \\left(q_{nc} + \\left(p_{na} \\sin{\\left(θ \\right)} + p_{nb} \\cos{\\left(θ \\right)}\\right) \\sin{\\left(θ \\right)} + \\left(p_{nb} \\sin{\\left(θ \\right)} + p_{nc} \\cos{\\left(θ \\right)}\\right) \\cos{\\left(θ \\right)}\\right)$"
      ],
      "text/plain": [
       "((q_a + (p_a*cos(θ) - p_b*sin(θ))*cos(θ) - (p_b*cos(θ) - p_c*sin(θ))*sin(θ))*(p_nx*cos(θ) - p_ny*sin(θ) + q_nx) + (q_b + (p_a*sin(θ) + p_b*cos(θ))*cos(θ) - (p_b*sin(θ) + p_c*cos(θ))*sin(θ))*(p_nx*sin(θ) + p_ny*cos(θ) + q_ny))*(p_nx*cos(θ) - p_ny*sin(θ) + q_nx) + ((q_b + (p_a*cos(θ) - p_b*sin(θ))*sin(θ) + (p_b*cos(θ) - p_c*sin(θ))*cos(θ))*(p_nx*cos(θ) - p_ny*sin(θ) + q_nx) + (q_c + (p_a*sin(θ) + p_b*cos(θ))*sin(θ) + (p_b*sin(θ) + p_c*cos(θ))*cos(θ))*(p_nx*sin(θ) + p_ny*cos(θ) + q_ny))*(p_nx*sin(θ) + p_ny*cos(θ) + q_ny) + ((q_na + (p_na*cos(θ) - p_nb*sin(θ))*cos(θ) - (p_nb*cos(θ) - p_nc*sin(θ))*sin(θ))*(p_x*cos(θ) - p_y*sin(θ) - q_x + x) + (q_nb + (p_na*sin(θ) + p_nb*cos(θ))*cos(θ) - (p_nb*sin(θ) + p_nc*cos(θ))*sin(θ))*(p_x*sin(θ) + p_y*cos(θ) - q_y + y))*(p_x*cos(θ) - p_y*sin(θ) - q_x + x) + ((q_nb + (p_na*cos(θ) - p_nb*sin(θ))*sin(θ) + (p_nb*cos(θ) - p_nc*sin(θ))*cos(θ))*(p_x*cos(θ) - p_y*sin(θ) - q_x + x) + (q_nc + (p_na*sin(θ) + p_nb*cos(θ))*sin(θ) + (p_nb*sin(θ) + p_nc*cos(θ))*cos(θ))*(p_x*sin(θ) + p_y*cos(θ) - q_y + y))*(p_x*sin(θ) + p_y*cos(θ) - q_y + y) + (q_a + (p_a*cos(θ) - p_b*sin(θ))*cos(θ) - (p_b*cos(θ) - p_c*sin(θ))*sin(θ))*(q_na + (p_na*cos(θ) - p_nb*sin(θ))*cos(θ) - (p_nb*cos(θ) - p_nc*sin(θ))*sin(θ)) + (q_b + (p_a*sin(θ) + p_b*cos(θ))*cos(θ) - (p_b*sin(θ) + p_c*cos(θ))*sin(θ))*(q_nb + (p_na*cos(θ) - p_nb*sin(θ))*sin(θ) + (p_nb*cos(θ) - p_nc*sin(θ))*cos(θ)) + (q_b + (p_a*cos(θ) - p_b*sin(θ))*sin(θ) + (p_b*cos(θ) - p_c*sin(θ))*cos(θ))*(q_nb + (p_na*sin(θ) + p_nb*cos(θ))*cos(θ) - (p_nb*sin(θ) + p_nc*cos(θ))*sin(θ)) + (q_c + (p_a*sin(θ) + p_b*cos(θ))*sin(θ) + (p_b*sin(θ) + p_c*cos(θ))*cos(θ))*(q_nc + (p_na*sin(θ) + p_nb*cos(θ))*sin(θ) + (p_nb*sin(θ) + p_nc*cos(θ))*cos(θ))"
      ]
     },
     "execution_count": 110,
     "metadata": {},
     "output_type": "execute_result"
    }
   ],
   "source": [
    "den * den"
   ]
  },
  {
   "cell_type": "code",
   "execution_count": 115,
   "metadata": {},
   "outputs": [
    {
     "data": {
      "text/latex": [
       "$\\displaystyle 2 p_{na} p_{x} \\sin^{2}{\\left(θ \\right)} \\cos{\\left(θ \\right)} + 2 p_{na} p_{x} \\cos^{3}{\\left(θ \\right)} - 2 p_{na} q_{x} \\cos^{2}{\\left(θ \\right)} - 2 p_{na} q_{y} \\sin{\\left(θ \\right)} \\cos{\\left(θ \\right)} + 2 p_{na} y \\sin{\\left(θ \\right)} \\cos{\\left(θ \\right)} - 2 p_{nb} p_{x} \\sin^{3}{\\left(θ \\right)} - 2 p_{nb} p_{x} \\sin{\\left(θ \\right)} \\cos^{2}{\\left(θ \\right)} + 2 p_{nb} p_{y} \\sin^{2}{\\left(θ \\right)} \\cos{\\left(θ \\right)} + 2 p_{nb} p_{y} \\cos^{3}{\\left(θ \\right)} + 4 p_{nb} q_{x} \\sin{\\left(θ \\right)} \\cos{\\left(θ \\right)} + 2 p_{nb} q_{y} \\sin^{2}{\\left(θ \\right)} - 2 p_{nb} q_{y} \\cos^{2}{\\left(θ \\right)} - 2 p_{nb} y \\sin^{2}{\\left(θ \\right)} + 2 p_{nb} y \\cos^{2}{\\left(θ \\right)} - 2 p_{nc} p_{y} \\sin^{3}{\\left(θ \\right)} - 2 p_{nc} p_{y} \\sin{\\left(θ \\right)} \\cos^{2}{\\left(θ \\right)} - 2 p_{nc} q_{x} \\sin^{2}{\\left(θ \\right)} + 2 p_{nc} q_{y} \\sin{\\left(θ \\right)} \\cos{\\left(θ \\right)} - 2 p_{nc} y \\sin{\\left(θ \\right)} \\cos{\\left(θ \\right)} + 2 p_{x} q_{na} \\cos{\\left(θ \\right)} + 2 p_{x} q_{nb} \\sin{\\left(θ \\right)} - 2 p_{y} q_{na} \\sin{\\left(θ \\right)} + 2 p_{y} q_{nb} \\cos{\\left(θ \\right)} - 2 q_{na} q_{x} - 2 q_{nb} q_{y} + 2 q_{nb} y$"
      ],
      "text/plain": [
       "2*p_na*p_x*sin(θ)**2*cos(θ) + 2*p_na*p_x*cos(θ)**3 - 2*p_na*q_x*cos(θ)**2 - 2*p_na*q_y*sin(θ)*cos(θ) + 2*p_na*y*sin(θ)*cos(θ) - 2*p_nb*p_x*sin(θ)**3 - 2*p_nb*p_x*sin(θ)*cos(θ)**2 + 2*p_nb*p_y*sin(θ)**2*cos(θ) + 2*p_nb*p_y*cos(θ)**3 + 4*p_nb*q_x*sin(θ)*cos(θ) + 2*p_nb*q_y*sin(θ)**2 - 2*p_nb*q_y*cos(θ)**2 - 2*p_nb*y*sin(θ)**2 + 2*p_nb*y*cos(θ)**2 - 2*p_nc*p_y*sin(θ)**3 - 2*p_nc*p_y*sin(θ)*cos(θ)**2 - 2*p_nc*q_x*sin(θ)**2 + 2*p_nc*q_y*sin(θ)*cos(θ) - 2*p_nc*y*sin(θ)*cos(θ) + 2*p_x*q_na*cos(θ) + 2*p_x*q_nb*sin(θ) - 2*p_y*q_na*sin(θ) + 2*p_y*q_nb*cos(θ) - 2*q_na*q_x - 2*q_nb*q_y + 2*q_nb*y"
      ]
     },
     "execution_count": 115,
     "metadata": {},
     "output_type": "execute_result"
    }
   ],
   "source": [
    "sym.expand(den * den).coeff(x)"
   ]
  },
  {
   "cell_type": "code",
   "execution_count": 116,
   "metadata": {},
   "outputs": [
    {
     "data": {
      "text/latex": [
       "$\\displaystyle 2 p_{na} p_{x} \\sin^{3}{\\left(θ \\right)} + 2 p_{na} p_{x} \\sin{\\left(θ \\right)} \\cos^{2}{\\left(θ \\right)} - 2 p_{na} q_{x} \\sin{\\left(θ \\right)} \\cos{\\left(θ \\right)} - 2 p_{na} q_{y} \\sin^{2}{\\left(θ \\right)} + 2 p_{na} x \\sin{\\left(θ \\right)} \\cos{\\left(θ \\right)} + 2 p_{nb} p_{x} \\sin^{2}{\\left(θ \\right)} \\cos{\\left(θ \\right)} + 2 p_{nb} p_{x} \\cos^{3}{\\left(θ \\right)} + 2 p_{nb} p_{y} \\sin^{3}{\\left(θ \\right)} + 2 p_{nb} p_{y} \\sin{\\left(θ \\right)} \\cos^{2}{\\left(θ \\right)} + 2 p_{nb} q_{x} \\sin^{2}{\\left(θ \\right)} - 2 p_{nb} q_{x} \\cos^{2}{\\left(θ \\right)} - 4 p_{nb} q_{y} \\sin{\\left(θ \\right)} \\cos{\\left(θ \\right)} - 2 p_{nb} x \\sin^{2}{\\left(θ \\right)} + 2 p_{nb} x \\cos^{2}{\\left(θ \\right)} + 2 p_{nc} p_{y} \\sin^{2}{\\left(θ \\right)} \\cos{\\left(θ \\right)} + 2 p_{nc} p_{y} \\cos^{3}{\\left(θ \\right)} + 2 p_{nc} q_{x} \\sin{\\left(θ \\right)} \\cos{\\left(θ \\right)} - 2 p_{nc} q_{y} \\cos^{2}{\\left(θ \\right)} - 2 p_{nc} x \\sin{\\left(θ \\right)} \\cos{\\left(θ \\right)} + 2 p_{x} q_{nb} \\cos{\\left(θ \\right)} + 2 p_{x} q_{nc} \\sin{\\left(θ \\right)} - 2 p_{y} q_{nb} \\sin{\\left(θ \\right)} + 2 p_{y} q_{nc} \\cos{\\left(θ \\right)} - 2 q_{nb} q_{x} + 2 q_{nb} x - 2 q_{nc} q_{y}$"
      ],
      "text/plain": [
       "2*p_na*p_x*sin(θ)**3 + 2*p_na*p_x*sin(θ)*cos(θ)**2 - 2*p_na*q_x*sin(θ)*cos(θ) - 2*p_na*q_y*sin(θ)**2 + 2*p_na*x*sin(θ)*cos(θ) + 2*p_nb*p_x*sin(θ)**2*cos(θ) + 2*p_nb*p_x*cos(θ)**3 + 2*p_nb*p_y*sin(θ)**3 + 2*p_nb*p_y*sin(θ)*cos(θ)**2 + 2*p_nb*q_x*sin(θ)**2 - 2*p_nb*q_x*cos(θ)**2 - 4*p_nb*q_y*sin(θ)*cos(θ) - 2*p_nb*x*sin(θ)**2 + 2*p_nb*x*cos(θ)**2 + 2*p_nc*p_y*sin(θ)**2*cos(θ) + 2*p_nc*p_y*cos(θ)**3 + 2*p_nc*q_x*sin(θ)*cos(θ) - 2*p_nc*q_y*cos(θ)**2 - 2*p_nc*x*sin(θ)*cos(θ) + 2*p_x*q_nb*cos(θ) + 2*p_x*q_nc*sin(θ) - 2*p_y*q_nb*sin(θ) + 2*p_y*q_nc*cos(θ) - 2*q_nb*q_x + 2*q_nb*x - 2*q_nc*q_y"
      ]
     },
     "execution_count": 116,
     "metadata": {},
     "output_type": "execute_result"
    }
   ],
   "source": [
    "sym.expand(den * den).coeff(y)"
   ]
  },
  {
   "cell_type": "code",
   "execution_count": 3,
   "metadata": {},
   "outputs": [
    {
     "data": {
      "text/latex": [
       "$\\displaystyle 2 p_{na} \\sin{\\left(θ \\right)} \\cos{\\left(θ \\right)} - 2 p_{nb} \\sin^{2}{\\left(θ \\right)} + 2 p_{nb} \\cos^{2}{\\left(θ \\right)} - 2 p_{nc} \\sin{\\left(θ \\right)} \\cos{\\left(θ \\right)} + 2 q_{nb}$"
      ],
      "text/plain": [
       "2*p_na*sin(θ)*cos(θ) - 2*p_nb*sin(θ)**2 + 2*p_nb*cos(θ)**2 - 2*p_nc*sin(θ)*cos(θ) + 2*q_nb"
      ]
     },
     "execution_count": 3,
     "metadata": {},
     "output_type": "execute_result"
    }
   ],
   "source": [
    "sym.expand(den * den).coeff(x*y)"
   ]
  },
  {
   "cell_type": "markdown",
   "metadata": {},
   "source": [
    "## Symmetric NDT w/o Normal Covariance"
   ]
  },
  {
   "cell_type": "code",
   "execution_count": 102,
   "metadata": {},
   "outputs": [],
   "source": [
    "m1 = (R * p + t) - q\n",
    "m2 = (R * pn) + qn\n",
    "c1 = R * cp * R.transpose() + cq\n",
    "c2 = R * cpn * R.transpose() + cqn\n",
    "\n",
    "num = (m1.transpose() * m2)[0]\n",
    "den = sym.sqrt((m2.transpose() * c1 * m2)[0])\n",
    "e7 = num / den\n",
    "cost7 = 0.5 * e7 * e7"
   ]
  },
  {
   "cell_type": "code",
   "execution_count": 106,
   "metadata": {},
   "outputs": [
    {
     "data": {
      "text/latex": [
       "$\\displaystyle \\left(\\left(p_{nx} \\sin{\\left(θ \\right)} + p_{ny} \\cos{\\left(θ \\right)} + q_{ny}\\right) \\left(p_{x} \\sin{\\left(θ \\right)} + p_{y} \\cos{\\left(θ \\right)} - q_{y} + y\\right) + \\left(p_{nx} \\cos{\\left(θ \\right)} - p_{ny} \\sin{\\left(θ \\right)} + q_{nx}\\right) \\left(p_{x} \\cos{\\left(θ \\right)} - p_{y} \\sin{\\left(θ \\right)} - q_{x} + x\\right)\\right)^{2}$"
      ],
      "text/plain": [
       "((p_nx*sin(θ) + p_ny*cos(θ) + q_ny)*(p_x*sin(θ) + p_y*cos(θ) - q_y + y) + (p_nx*cos(θ) - p_ny*sin(θ) + q_nx)*(p_x*cos(θ) - p_y*sin(θ) - q_x + x))**2"
      ]
     },
     "execution_count": 106,
     "metadata": {},
     "output_type": "execute_result"
    }
   ],
   "source": [
    "num * num"
   ]
  },
  {
   "cell_type": "code",
   "execution_count": 107,
   "metadata": {},
   "outputs": [
    {
     "data": {
      "text/latex": [
       "$\\displaystyle \\left(\\left(q_{a} + \\left(p_{a} \\cos{\\left(θ \\right)} - p_{b} \\sin{\\left(θ \\right)}\\right) \\cos{\\left(θ \\right)} - \\left(p_{b} \\cos{\\left(θ \\right)} - p_{c} \\sin{\\left(θ \\right)}\\right) \\sin{\\left(θ \\right)}\\right) \\left(p_{nx} \\cos{\\left(θ \\right)} - p_{ny} \\sin{\\left(θ \\right)} + q_{nx}\\right) + \\left(q_{b} + \\left(p_{a} \\sin{\\left(θ \\right)} + p_{b} \\cos{\\left(θ \\right)}\\right) \\cos{\\left(θ \\right)} - \\left(p_{b} \\sin{\\left(θ \\right)} + p_{c} \\cos{\\left(θ \\right)}\\right) \\sin{\\left(θ \\right)}\\right) \\left(p_{nx} \\sin{\\left(θ \\right)} + p_{ny} \\cos{\\left(θ \\right)} + q_{ny}\\right)\\right) \\left(p_{nx} \\cos{\\left(θ \\right)} - p_{ny} \\sin{\\left(θ \\right)} + q_{nx}\\right) + \\left(\\left(q_{b} + \\left(p_{a} \\cos{\\left(θ \\right)} - p_{b} \\sin{\\left(θ \\right)}\\right) \\sin{\\left(θ \\right)} + \\left(p_{b} \\cos{\\left(θ \\right)} - p_{c} \\sin{\\left(θ \\right)}\\right) \\cos{\\left(θ \\right)}\\right) \\left(p_{nx} \\cos{\\left(θ \\right)} - p_{ny} \\sin{\\left(θ \\right)} + q_{nx}\\right) + \\left(q_{c} + \\left(p_{a} \\sin{\\left(θ \\right)} + p_{b} \\cos{\\left(θ \\right)}\\right) \\sin{\\left(θ \\right)} + \\left(p_{b} \\sin{\\left(θ \\right)} + p_{c} \\cos{\\left(θ \\right)}\\right) \\cos{\\left(θ \\right)}\\right) \\left(p_{nx} \\sin{\\left(θ \\right)} + p_{ny} \\cos{\\left(θ \\right)} + q_{ny}\\right)\\right) \\left(p_{nx} \\sin{\\left(θ \\right)} + p_{ny} \\cos{\\left(θ \\right)} + q_{ny}\\right)$"
      ],
      "text/plain": [
       "((q_a + (p_a*cos(θ) - p_b*sin(θ))*cos(θ) - (p_b*cos(θ) - p_c*sin(θ))*sin(θ))*(p_nx*cos(θ) - p_ny*sin(θ) + q_nx) + (q_b + (p_a*sin(θ) + p_b*cos(θ))*cos(θ) - (p_b*sin(θ) + p_c*cos(θ))*sin(θ))*(p_nx*sin(θ) + p_ny*cos(θ) + q_ny))*(p_nx*cos(θ) - p_ny*sin(θ) + q_nx) + ((q_b + (p_a*cos(θ) - p_b*sin(θ))*sin(θ) + (p_b*cos(θ) - p_c*sin(θ))*cos(θ))*(p_nx*cos(θ) - p_ny*sin(θ) + q_nx) + (q_c + (p_a*sin(θ) + p_b*cos(θ))*sin(θ) + (p_b*sin(θ) + p_c*cos(θ))*cos(θ))*(p_nx*sin(θ) + p_ny*cos(θ) + q_ny))*(p_nx*sin(θ) + p_ny*cos(θ) + q_ny)"
      ]
     },
     "execution_count": 107,
     "metadata": {},
     "output_type": "execute_result"
    }
   ],
   "source": [
    "den * den"
   ]
  },
  {
   "cell_type": "code",
   "execution_count": null,
   "metadata": {},
   "outputs": [],
   "source": []
  }
 ],
 "metadata": {
  "kernelspec": {
   "display_name": "Python 3",
   "language": "python",
   "name": "python3"
  },
  "language_info": {
   "codemirror_mode": {
    "name": "ipython",
    "version": 3
   },
   "file_extension": ".py",
   "mimetype": "text/x-python",
   "name": "python",
   "nbconvert_exporter": "python",
   "pygments_lexer": "ipython3",
   "version": "3.6.9"
  }
 },
 "nbformat": 4,
 "nbformat_minor": 2
}
